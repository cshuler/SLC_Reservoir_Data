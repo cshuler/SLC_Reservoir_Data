{
 "cells": [
  {
   "cell_type": "code",
   "execution_count": 1,
   "metadata": {},
   "outputs": [
    {
     "ename": "ModuleNotFoundError",
     "evalue": "No module named 'geopandas'",
     "output_type": "error",
     "traceback": [
      "\u001b[1;31m---------------------------------------------------------------------------\u001b[0m",
      "\u001b[1;31mModuleNotFoundError\u001b[0m                       Traceback (most recent call last)",
      "\u001b[1;32m<ipython-input-1-ea20d7127f2f>\u001b[0m in \u001b[0;36m<module>\u001b[1;34m\u001b[0m\n\u001b[0;32m      5\u001b[0m \u001b[1;32mimport\u001b[0m \u001b[0mio\u001b[0m\u001b[1;33m\u001b[0m\u001b[0m\n\u001b[0;32m      6\u001b[0m \u001b[1;33m\u001b[0m\u001b[0m\n\u001b[1;32m----> 7\u001b[1;33m \u001b[1;32mimport\u001b[0m \u001b[0mgeopandas\u001b[0m\u001b[1;33m\u001b[0m\u001b[0m\n\u001b[0m\u001b[0;32m      8\u001b[0m \u001b[1;32mimport\u001b[0m \u001b[0mgeopandas\u001b[0m \u001b[1;32mas\u001b[0m \u001b[0mgpd\u001b[0m\u001b[1;33m\u001b[0m\u001b[0m\n",
      "\u001b[1;31mModuleNotFoundError\u001b[0m: No module named 'geopandas'"
     ]
    }
   ],
   "source": [
    "import os\n",
    "import pandas as pd\n",
    "import numpy as np\n",
    "import requests\n",
    "import io\n",
    "\n",
    "import geopandas\n",
    "import geopandas as gpd"
   ]
  },
  {
   "cell_type": "markdown",
   "metadata": {},
   "source": [
    "## This script pulls reservoir level data from the Sea Level center Reservoir Database\n",
    "Home page link\n",
    "- https://uhslc.soest.hawaii.edu/\n",
    "\n",
    "Data Dashboard \n",
    "- https://uhslc.soest.hawaii.edu/reservoir/"
   ]
  },
  {
   "cell_type": "code",
   "execution_count": null,
   "metadata": {},
   "outputs": [],
   "source": [
    "# load geojson data form the main station link\n",
    "url = 'https://uhslc.soest.hawaii.edu/reservoir/stations.geojson'\n",
    "r = requests.get(url)\n",
    "gdf = gpd.GeoDataFrame.from_features(r.json())\n",
    "\n",
    "idlist = []\n",
    "for i in gdf.index:\n",
    "    idlist.append(r.json()['features'][i][\"id\"])\n",
    "    \n",
    "gdf['id'] = idlist\n",
    "\n",
    "# Print stations and metadata\n",
    "gdf"
   ]
  },
  {
   "cell_type": "markdown",
   "metadata": {},
   "source": [
    "## Read and save timeseries as csv files"
   ]
  },
  {
   "cell_type": "code",
   "execution_count": null,
   "metadata": {},
   "outputs": [],
   "source": [
    "# Read all the csvs off of the station ID list and save them as csv\n",
    "for station in gdf['id']:\n",
    "    try: \n",
    "        print(station)\n",
    "        url = 'https://uhslc.soest.hawaii.edu/reservoir/{}-full.csv'.format(staion)\n",
    "        s=requests.get(url).content\n",
    "        data = pd.read_csv(io.StringIO(s.decode('utf-8')))\n",
    "        # Save as a csv\n",
    "        data.to_csv(os.path.join('..', 'Data', \"WL_{}.csv\".format(staion)),  index=False)   \n",
    "    except: \n",
    "        print(f\"{staion} is quite nonexistant\")"
   ]
  }
 ],
 "metadata": {
  "kernelspec": {
   "display_name": "Python 3",
   "language": "python",
   "name": "python3"
  },
  "language_info": {
   "codemirror_mode": {
    "name": "ipython",
    "version": 3
   },
   "file_extension": ".py",
   "mimetype": "text/x-python",
   "name": "python",
   "nbconvert_exporter": "python",
   "pygments_lexer": "ipython3",
   "version": "3.6.2"
  }
 },
 "nbformat": 4,
 "nbformat_minor": 4
}
