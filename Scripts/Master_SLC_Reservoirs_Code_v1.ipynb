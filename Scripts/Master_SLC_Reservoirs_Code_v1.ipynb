{
 "cells": [
  {
   "cell_type": "code",
   "execution_count": 3,
   "id": "0ca8daab",
   "metadata": {},
   "outputs": [],
   "source": [
    "import os\n",
    "import pandas as pd\n",
    "import numpy as np\n",
    "import requests\n",
    "import io\n",
    "import json\n",
    "from datetime import datetime"
   ]
  },
  {
   "cell_type": "markdown",
   "id": "eff8aba0",
   "metadata": {},
   "source": [
    "## This Cell pulls reservoir level data from the Sea Level center Reservoir Database\n",
    "Home page link\n",
    "- https://uhslc.soest.hawaii.edu/\n",
    "\n",
    "Data Dashboard \n",
    "- https://uhslc.soest.hawaii.edu/reservoir/"
   ]
  },
  {
   "cell_type": "code",
   "execution_count": null,
   "id": "a30a91e4",
   "metadata": {},
   "outputs": [],
   "source": [
    "# Set up the loacation of where to put the data\n",
    "today = datetime.today().strftime('%Y-%m-%d')            # new data for each date so record the date\n",
    "os.makedirs(os.path.dirname(json_file), exist_ok=True)   # create a new folder for todays date \n",
    "json_file = os.path.join(\"..\", \"Data/GIS/Rez_locations\", \"stations.geojson-{}.txt\".format(today))\n"
   ]
  },
  {
   "cell_type": "code",
   "execution_count": 5,
   "id": "119bdc43",
   "metadata": {},
   "outputs": [],
   "source": []
  },
  {
   "cell_type": "code",
   "execution_count": null,
   "id": "6c5ba133",
   "metadata": {},
   "outputs": [],
   "source": []
  },
  {
   "cell_type": "code",
   "execution_count": null,
   "id": "55ba3a4b",
   "metadata": {},
   "outputs": [],
   "source": []
  }
 ],
 "metadata": {
  "kernelspec": {
   "display_name": "Python 3 (ipykernel)",
   "language": "python",
   "name": "python3"
  },
  "language_info": {
   "codemirror_mode": {
    "name": "ipython",
    "version": 3
   },
   "file_extension": ".py",
   "mimetype": "text/x-python",
   "name": "python",
   "nbconvert_exporter": "python",
   "pygments_lexer": "ipython3",
   "version": "3.9.12"
  }
 },
 "nbformat": 4,
 "nbformat_minor": 5
}
