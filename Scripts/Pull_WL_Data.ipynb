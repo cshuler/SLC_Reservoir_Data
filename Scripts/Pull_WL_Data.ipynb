{
 "cells": [
  {
   "cell_type": "code",
   "execution_count": 32,
   "id": "da8bac09",
   "metadata": {},
   "outputs": [],
   "source": [
    "import os\n",
    "import pandas as pd\n",
    "import requests\n",
    "from datetime import datetime"
   ]
  },
  {
   "cell_type": "markdown",
   "id": "b7ba8f75",
   "metadata": {},
   "source": [
    "### Pulling data from the SLC API "
   ]
  },
  {
   "cell_type": "code",
   "execution_count": 35,
   "id": "355e33cc",
   "metadata": {},
   "outputs": [
    {
     "name": "stderr",
     "output_type": "stream",
     "text": [
      "C:\\Users\\CS\\AppData\\Local\\Temp\\ipykernel_2232\\2194630498.py:19: DtypeWarning: Columns (3) have mixed types. Specify dtype option on import or set low_memory=False.\n",
      "  data = pd.read_csv('https://uhslc.soest.hawaii.edu/reservoir/'  + ID  +  '-full.csv')\n",
      "C:\\Users\\CS\\AppData\\Local\\Temp\\ipykernel_2232\\2194630498.py:19: DtypeWarning: Columns (3) have mixed types. Specify dtype option on import or set low_memory=False.\n",
      "  data = pd.read_csv('https://uhslc.soest.hawaii.edu/reservoir/'  + ID  +  '-full.csv')\n"
     ]
    }
   ],
   "source": [
    "# First Set up the loacation of where to put the data\n",
    "today = datetime.today().strftime('%Y-%m-%d')            # new data for each date so record the date\n",
    "os.makedirs(os.path.join(\"..\", \"Data\", \"WL_Data{}\".format(today), \"UHSLC\"), exist_ok=True) # create a new folder for todays date \n",
    "\n",
    "# Definte the folder to save files into \n",
    "Datapath = os.path.join(\"..\", \"Data\", \"WL_Data{}\".format(today), \"UHSLC\")\n",
    "\n",
    "# then Grab the station metadata for each of the reservoirs from SLC website\n",
    "url = 'https://uhslc.soest.hawaii.edu/reservoir/stations.geojson'\n",
    "meta = pd.json_normalize(requests.get(url).json()['features'])    ## Download the metadata\n",
    "meta.columns = df.columns.str.replace('geometry.', '', regex=False).str.replace('properties.', '', regex=False)  # clean up column headers \n",
    "\n",
    "# Crreate a list of the UH SLC reservoirs to loop over \n",
    "UHSLC_ID = meta['id'].tolist() \n",
    "UHSLC_ID = [x for x in UHSLC_ID if str(x) != 'nan']  # Filter out nan (Not a Number) values from the list UHSLC_ID.  \n",
    "\n",
    "# Loop over each reservoir to save each of the files in a date stamped folder\n",
    "for ID in UHSLC_ID: \n",
    "    data = pd.read_csv('https://uhslc.soest.hawaii.edu/reservoir/'  + ID  +  '-full.csv')\n",
    "    data.to_csv(os.path.join(Datapath, \"{}.csv\".format(ID)))"
   ]
  },
  {
   "cell_type": "code",
   "execution_count": null,
   "id": "d615acae",
   "metadata": {
    "scrolled": true
   },
   "outputs": [],
   "source": []
  },
  {
   "cell_type": "code",
   "execution_count": null,
   "id": "0a133b1a",
   "metadata": {},
   "outputs": [],
   "source": []
  },
  {
   "cell_type": "code",
   "execution_count": 24,
   "id": "edaf9994",
   "metadata": {},
   "outputs": [],
   "source": []
  },
  {
   "cell_type": "code",
   "execution_count": null,
   "id": "5bf9e420",
   "metadata": {},
   "outputs": [],
   "source": []
  },
  {
   "cell_type": "code",
   "execution_count": null,
   "id": "98c184c1",
   "metadata": {},
   "outputs": [],
   "source": []
  }
 ],
 "metadata": {
  "kernelspec": {
   "display_name": "Python 3 (ipykernel)",
   "language": "python",
   "name": "python3"
  },
  "language_info": {
   "codemirror_mode": {
    "name": "ipython",
    "version": 3
   },
   "file_extension": ".py",
   "mimetype": "text/x-python",
   "name": "python",
   "nbconvert_exporter": "python",
   "pygments_lexer": "ipython3",
   "version": "3.9.12"
  }
 },
 "nbformat": 4,
 "nbformat_minor": 5
}
