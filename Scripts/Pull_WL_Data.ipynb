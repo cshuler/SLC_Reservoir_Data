{
 "cells": [
  {
   "cell_type": "code",
   "execution_count": 68,
   "id": "3f49d3e6",
   "metadata": {},
   "outputs": [],
   "source": [
    "import os\n",
    "import pandas as pd\n",
    "import requests\n",
    "from datetime import datetime\n",
    "import matplotlib.pyplot as plt\n"
   ]
  },
  {
   "cell_type": "markdown",
   "id": "fd51c3b7",
   "metadata": {},
   "source": [
    "### Pulling data from the SLC API "
   ]
  },
  {
   "cell_type": "code",
   "execution_count": 35,
   "id": "46a8c9b8",
   "metadata": {},
   "outputs": [
    {
     "name": "stderr",
     "output_type": "stream",
     "text": [
      "C:\\Users\\CS\\AppData\\Local\\Temp\\ipykernel_2232\\2194630498.py:19: DtypeWarning: Columns (3) have mixed types. Specify dtype option on import or set low_memory=False.\n",
      "  data = pd.read_csv('https://uhslc.soest.hawaii.edu/reservoir/'  + ID  +  '-full.csv')\n",
      "C:\\Users\\CS\\AppData\\Local\\Temp\\ipykernel_2232\\2194630498.py:19: DtypeWarning: Columns (3) have mixed types. Specify dtype option on import or set low_memory=False.\n",
      "  data = pd.read_csv('https://uhslc.soest.hawaii.edu/reservoir/'  + ID  +  '-full.csv')\n"
     ]
    }
   ],
   "source": [
    "# First Set up the loacation of where to put the data\n",
    "today = datetime.today().strftime('%Y-%m-%d')            # new data for each date so record the date\n",
    "os.makedirs(os.path.join(\"..\", \"Data\", \"WL_Data{}\".format(today), \"UHSLC\"), exist_ok=True) # create a new folder for todays date \n",
    "\n",
    "# Definte the folder to save files into \n",
    "Datapath = os.path.join(\"..\", \"Data\", \"WL_Data{}\".format(today), \"UHSLC\")\n",
    "\n",
    "# then Grab the station metadata for each of the reservoirs from SLC website\n",
    "url = 'https://uhslc.soest.hawaii.edu/reservoir/stations.geojson'\n",
    "meta = pd.json_normalize(requests.get(url).json()['features'])    ## Download the metadata\n",
    "meta.columns = df.columns.str.replace('geometry.', '', regex=False).str.replace('properties.', '', regex=False)  # clean up column headers \n",
    "\n",
    "# Crreate a list of the UH SLC reservoirs to loop over \n",
    "UHSLC_ID = meta['id'].tolist() \n",
    "UHSLC_ID = [x for x in UHSLC_ID if str(x) != 'nan']  # Filter out nan (Not a Number) values from the list UHSLC_ID.  \n",
    "\n",
    "# Loop over each reservoir to save each of the files in a date stamped folder\n",
    "for ID in UHSLC_ID: \n",
    "    data = pd.read_csv('https://uhslc.soest.hawaii.edu/reservoir/'  + ID  +  '-full.csv')\n",
    "    data.to_csv(os.path.join(Datapath, \"{}.csv\".format(ID)))"
   ]
  },
  {
   "cell_type": "markdown",
   "id": "48525428",
   "metadata": {},
   "source": [
    "## Pulling data from USGS gauges, \n",
    "\n",
    "Brian here is the basic function, can you clean up and maybe wrap this in to what we have already in terns of the known reservoir ID's and the right date ranges? \n",
    "\n",
    "\n",
    "Then a key issue, if you "
   ]
  },
  {
   "cell_type": "code",
   "execution_count": 72,
   "id": "94bece02",
   "metadata": {
    "scrolled": true
   },
   "outputs": [
    {
     "data": {
      "image/png": "[encoded data removed]",
      "text/plain": [
       "<Figure size 432x288 with 1 Axes>"
      ]
     },
     "metadata": {
      "needs_background": "light"
     },
     "output_type": "display_data"
    }
   ],
   "source": [
    "# Define the site and parameters\n",
    "site = '16094150'\n",
    "start = \"2024-05-14\"\n",
    "end = \"2024-05-17\"\n",
    "parameter = \"00065\"  # Stage/streamflow\n",
    "\n",
    "# Define the USGS URL for the instantaneous values (IV) service\n",
    "url = f\"https://waterservices.usgs.gov/nwis/iv/?format=json&sites={site}&startDT={start}&endDT={end}&parameterCd={parameter}&siteStatus=all\"\n",
    "\n",
    "# Request the data\n",
    "response = requests.get(url)\n",
    "data = response.json()\n",
    "\n",
    "rows = []\n",
    "\n",
    "# Loop over all the time series\n",
    "for time_series in data['value']['timeSeries']:\n",
    "    # Loop over each value entry within the time series\n",
    "    for entry in time_series['values'][0]['value']:\n",
    "        # Extract the needed information and store it in a dictionary\n",
    "        row = {\n",
    "            \"dateTime\": entry[\"dateTime\"],\n",
    "            \"value\": float(entry[\"value\"]),\n",
    "            \"qualifiers\": entry[\"qualifiers\"]\n",
    "        }\n",
    "        # Append the row to the list of rows\n",
    "        rows.append(row)\n",
    "\n",
    "# Convert the list of rows into a pandas DataFrame\n",
    "df = pd.DataFrame(rows)\n",
    "\n",
    "\n",
    "# Plot the data\n",
    "df.plot(x='dateTime', y='value')\n",
    "plt.title(f\"USGS Stream Gauge Data for Site {site}\")\n",
    "plt.xlabel(\"Date\")\n",
    "plt.ylabel(\"Streamflow (CFS)\")\n",
    "plt.show()\n"
   ]
  },
  {
   "cell_type": "code",
   "execution_count": null,
   "id": "6c2911b6",
   "metadata": {},
   "outputs": [],
   "source": []
  }
 ],
 "metadata": {
  "kernelspec": {
   "display_name": "Python 3 (ipykernel)",
   "language": "python",
   "name": "python3"
  },
  "language_info": {
   "codemirror_mode": {
    "name": "ipython",
    "version": 3
   },
   "file_extension": ".py",
   "mimetype": "text/x-python",
   "name": "python",
   "nbconvert_exporter": "python",
   "pygments_lexer": "ipython3",
   "version": "3.9.12"
  }
 },
 "nbformat": 4,
 "nbformat_minor": 5
}
