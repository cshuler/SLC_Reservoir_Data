{
 "cells": [
  {
   "cell_type": "code",
   "execution_count": 8,
   "metadata": {},
   "outputs": [],
   "source": [
    "import os\n",
    "import pandas as pd\n",
    "import numpy as np\n",
    "import requests\n",
    "import io\n",
    "import json\n",
    "\n",
    "#import geopandas\n",
    "#import geopandas as gpd"
   ]
  },
  {
   "cell_type": "markdown",
   "metadata": {},
   "source": [
    "## This script pulls reservoir level data from the Sea Level center Reservoir Database\n",
    "Home page link\n",
    "- https://uhslc.soest.hawaii.edu/\n",
    "\n",
    "Data Dashboard \n",
    "- https://uhslc.soest.hawaii.edu/reservoir/"
   ]
  },
  {
   "cell_type": "code",
   "execution_count": 37,
   "metadata": {
    "scrolled": false
   },
   "outputs": [],
   "source": [
    "# load geojson data form the main station link\n",
    "#url = 'https://uhslc.soest.hawaii.edu/reservoir/stations.geojson'\n",
    "#r = requests.get(url)\n",
    "#gdf = gpd.GeoDataFrame.from_features(r.json())\n",
    "\n",
    "#idlist = []\n",
    "#for i in gdf.index:\n",
    "#    idlist.append(r.json()['features'][i][\"id\"])\n",
    "    \n",
    "#gdf['id'] = idlist\n",
    "\n",
    "# Print stations and metadata\n",
    "#gdf\n",
    "\n",
    "\n",
    "# Damnit, Gepandas no work dis computer so work around; \n",
    "#go to https://uhslc.soest.hawaii.edu/reservoir/stations.geojson and save the geojson manually \n",
    "\n",
    "# Now open da faka up\n",
    "json_file = os.path.join(\"..\", \"Data/GIS/Rez_locations\", \"stations.geojson-9-13-22.txt\")\n",
    "\n",
    "file = 'data.json'\n",
    "with open(json_file) as train_file:\n",
    "    dict_train = json.load(train_file)\n",
    "\n",
    "Stationlist = []\n",
    "for i in range(0,len(dict_train['features'])):\n",
    "    sta = dict_train['features'][i]['id']\n",
    "    Stationlist.append(sta)"
   ]
  },
  {
   "cell_type": "markdown",
   "metadata": {},
   "source": [
    "## Read and save timeseries as csv files"
   ]
  },
  {
   "cell_type": "code",
   "execution_count": 40,
   "metadata": {},
   "outputs": [
    {
     "name": "stdout",
     "output_type": "stream",
     "text": [
      "EDD00214\n",
      "EDD00CC6\n"
     ]
    },
    {
     "name": "stderr",
     "output_type": "stream",
     "text": [
      "C:\\Program Files\\ArcGIS\\Pro\\bin\\Python\\envs\\arcgispro-py3\\lib\\site-packages\\IPython\\core\\interactiveshell.py:3072: DtypeWarning: Columns (3) have mixed types. Specify dtype option on import or set low_memory=False.\n",
      "  interactivity=interactivity, compiler=compiler, result=result)\n"
     ]
    },
    {
     "name": "stdout",
     "output_type": "stream",
     "text": [
      "EDD01162\n",
      "EDD01FB0\n",
      "EDD024F8\n",
      "EDD02A2A\n",
      "EDD0378E\n",
      "EDD0395C\n",
      "EDD0411E\n",
      "EDD04FCC\n",
      "EDD05268\n",
      "EDD05CBA\n",
      "EDD067F2\n",
      "EDD06920\n",
      "EDD07484\n",
      "EDD07A56\n",
      "EDD08400\n",
      "EDD08AD2\n",
      "EDD09776\n",
      "EDD099A4\n",
      "EDD0A2EC\n",
      "EDD0AC3E\n",
      "EDD0B19A\n",
      "EDD0BF48\n",
      "EDD0C70A\n",
      "EDD0C9D8\n",
      "EDD0D47C\n",
      "EDD0DAAE\n",
      "EDD11398\n"
     ]
    }
   ],
   "source": [
    "# Read all the csvs off of the station ID list and save them as csv\n",
    "#for station in gdf['id']:\n",
    "    \n",
    "for station in Stationlist:\n",
    "    try: \n",
    "        print(station)\n",
    "        url = 'https://uhslc.soest.hawaii.edu/reservoir/{}-full.csv'.format(station)\n",
    "        s=requests.get(url).content\n",
    "        data = pd.read_csv(io.StringIO(s.decode('utf-8')))\n",
    "        # Save as a csv\n",
    "        data.to_csv(os.path.join('..', 'Data', \"WL_{}.csv\".format(station)),  index=False)   \n",
    "    except: \n",
    "        print(f\"{station} is quite nonexistant\")"
   ]
  },
  {
   "cell_type": "code",
   "execution_count": null,
   "metadata": {},
   "outputs": [],
   "source": []
  }
 ],
 "metadata": {
  "kernelspec": {
   "display_name": "Python 3 (ipykernel)",
   "language": "python",
   "name": "python3"
  },
  "language_info": {
   "codemirror_mode": {
    "name": "ipython",
    "version": 3
   },
   "file_extension": ".py",
   "mimetype": "text/x-python",
   "name": "python",
   "nbconvert_exporter": "python",
   "pygments_lexer": "ipython3",
   "version": "3.9.12"
  }
 },
 "nbformat": 4,
 "nbformat_minor": 4
}
